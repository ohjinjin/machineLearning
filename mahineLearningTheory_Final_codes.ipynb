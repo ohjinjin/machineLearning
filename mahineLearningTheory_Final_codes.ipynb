{
 "cells": [
  {
   "cell_type": "code",
   "execution_count": 1,
   "metadata": {},
   "outputs": [],
   "source": [
    "import numpy as np\n",
    "import matplotlib.pyplot as plt\n",
    "import pandas as pd\n",
    "import math"
   ]
  },
  {
   "cell_type": "code",
   "execution_count": 2,
   "metadata": {},
   "outputs": [
    {
     "data": {
      "text/plain": [
       "Text(0, 0.5, '$\\\\sigma(x)$')"
      ]
     },
     "execution_count": 2,
     "metadata": {},
     "output_type": "execute_result"
    },
    {
     "data": {
      "image/png": "[encoded data removed]",
      "text/plain": [
       "<Figure size 432x288 with 1 Axes>"
      ]
     },
     "metadata": {
      "needs_background": "light"
     },
     "output_type": "display_data"
    }
   ],
   "source": [
    "def sigmoid(x):\n",
    "    return 1 / (1+np.exp(-x))\n",
    "\n",
    "x = np.linspace(-10,10,100)\n",
    "\n",
    "plt.plot(x, sigmoid(x), 'r', label='linspace(-10,10,10)')\n",
    "plt.grid()\n",
    "plt.title('Sigmoid Function')\n",
    "plt.text(4, 0.8, r'$\\sigma(x)=\\frac{1}{1+e^{-x}}$', fontsize=15)\n",
    "plt.xlabel('X')\n",
    "plt.ylabel(r'$\\sigma(x)$')"
   ]
  },
  {
   "cell_type": "code",
   "execution_count": 3,
   "metadata": {},
   "outputs": [
    {
     "data": {
      "text/plain": [
       "Text(0, 0.5, '$\\\\sigma(x)$')"
      ]
     },
     "execution_count": 3,
     "metadata": {},
     "output_type": "execute_result"
    },
    {
     "data": {
      "image/png": "[encoded data removed]",
      "text/plain": [
       "<Figure size 432x288 with 1 Axes>"
      ]
     },
     "metadata": {
      "needs_background": "light"
     },
     "output_type": "display_data"
    }
   ],
   "source": [
    "bx = [-10,10]\n",
    "by = [.5, .5]\n",
    "\n",
    "plt.plot(x, sigmoid(x), 'r', label='sigmoid function')\n",
    "plt.plot(bx, by, 'b', label='boundary')\n",
    "plt.grid()\n",
    "plt.title('Sigmoid function with threshold')\n",
    "plt.text(4, 0.8, r'$\\sigma(x)=\\frac{1}{1+e^{-x}}$', fontsize=15)\n",
    "plt.xlabel('X')\n",
    "plt.ylabel(r'$\\sigma(x)$')"
   ]
  },
  {
   "cell_type": "code",
   "execution_count": 4,
   "metadata": {},
   "outputs": [],
   "source": [
    "import sklearn\n",
    "#from sklearn import datasets\n",
    "#from sklearn.model_selection import train_test_split\n",
    "#from sklearn.preprocessing import StandardScaler\n",
    "#from sklearn.metrics import accuracy_score"
   ]
  },
  {
   "cell_type": "code",
   "execution_count": 5,
   "metadata": {},
   "outputs": [
    {
     "name": "stdout",
     "output_type": "stream",
     "text": [
      "    x1   x2  target\n",
      "0 -2.0 -0.6       1\n",
      "1 -1.5 -0.6       1\n",
      "2 -0.8 -1.9       1\n",
      "3  2.1 -0.4       0\n",
      "4  0.4  0.9       0\n",
      "5 -0.2  0.4       0\n"
     ]
    }
   ],
   "source": [
    "from pandas import Series, DataFrame\n",
    "\n",
    "raw_data = {'x1': [-2, -1.5, -0.8, 2.1, 0.4, -0.2],\n",
    "            'x2': [-0.6, -0.6, -1.9, -0.4, 0.9, 0.4],\n",
    "            'target': [1, 1, 1, 0, 0, 0]}\n",
    "\n",
    "data = DataFrame(raw_data)\n",
    "print(data)"
   ]
  },
  {
   "cell_type": "code",
   "execution_count": 6,
   "metadata": {},
   "outputs": [
    {
     "data": {
      "text/plain": [
       "1    3\n",
       "0    3\n",
       "Name: target, dtype: int64"
      ]
     },
     "execution_count": 6,
     "metadata": {},
     "output_type": "execute_result"
    }
   ],
   "source": [
    "data['target'].value_counts()"
   ]
  },
  {
   "cell_type": "code",
   "execution_count": 7,
   "metadata": {},
   "outputs": [
    {
     "data": {
      "text/html": [
       "<div>\n",
       "<style scoped>\n",
       "    .dataframe tbody tr th:only-of-type {\n",
       "        vertical-align: middle;\n",
       "    }\n",
       "\n",
       "    .dataframe tbody tr th {\n",
       "        vertical-align: top;\n",
       "    }\n",
       "\n",
       "    .dataframe thead th {\n",
       "        text-align: right;\n",
       "    }\n",
       "</style>\n",
       "<table border=\"1\" class=\"dataframe\">\n",
       "  <thead>\n",
       "    <tr style=\"text-align: right;\">\n",
       "      <th></th>\n",
       "      <th>x1</th>\n",
       "      <th>x2</th>\n",
       "    </tr>\n",
       "  </thead>\n",
       "  <tbody>\n",
       "    <tr>\n",
       "      <th>0</th>\n",
       "      <td>-2.0</td>\n",
       "      <td>-0.6</td>\n",
       "    </tr>\n",
       "    <tr>\n",
       "      <th>1</th>\n",
       "      <td>-1.5</td>\n",
       "      <td>-0.6</td>\n",
       "    </tr>\n",
       "    <tr>\n",
       "      <th>2</th>\n",
       "      <td>-0.8</td>\n",
       "      <td>-1.9</td>\n",
       "    </tr>\n",
       "    <tr>\n",
       "      <th>3</th>\n",
       "      <td>2.1</td>\n",
       "      <td>-0.4</td>\n",
       "    </tr>\n",
       "    <tr>\n",
       "      <th>4</th>\n",
       "      <td>0.4</td>\n",
       "      <td>0.9</td>\n",
       "    </tr>\n",
       "  </tbody>\n",
       "</table>\n",
       "</div>"
      ],
      "text/plain": [
       "    x1   x2\n",
       "0 -2.0 -0.6\n",
       "1 -1.5 -0.6\n",
       "2 -0.8 -1.9\n",
       "3  2.1 -0.4\n",
       "4  0.4  0.9"
      ]
     },
     "execution_count": 7,
     "metadata": {},
     "output_type": "execute_result"
    }
   ],
   "source": [
    "X = data.drop(data.columns[[2]], axis=1)\n",
    "y = data.drop(data.columns[[0,1]], axis=1)\n",
    "X.head()"
   ]
  },
  {
   "cell_type": "code",
   "execution_count": 8,
   "metadata": {},
   "outputs": [
    {
     "data": {
      "text/html": [
       "<div>\n",
       "<style scoped>\n",
       "    .dataframe tbody tr th:only-of-type {\n",
       "        vertical-align: middle;\n",
       "    }\n",
       "\n",
       "    .dataframe tbody tr th {\n",
       "        vertical-align: top;\n",
       "    }\n",
       "\n",
       "    .dataframe thead th {\n",
       "        text-align: right;\n",
       "    }\n",
       "</style>\n",
       "<table border=\"1\" class=\"dataframe\">\n",
       "  <thead>\n",
       "    <tr style=\"text-align: right;\">\n",
       "      <th></th>\n",
       "      <th>target</th>\n",
       "    </tr>\n",
       "  </thead>\n",
       "  <tbody>\n",
       "    <tr>\n",
       "      <th>0</th>\n",
       "      <td>1</td>\n",
       "    </tr>\n",
       "    <tr>\n",
       "      <th>1</th>\n",
       "      <td>1</td>\n",
       "    </tr>\n",
       "    <tr>\n",
       "      <th>2</th>\n",
       "      <td>1</td>\n",
       "    </tr>\n",
       "    <tr>\n",
       "      <th>3</th>\n",
       "      <td>0</td>\n",
       "    </tr>\n",
       "    <tr>\n",
       "      <th>4</th>\n",
       "      <td>0</td>\n",
       "    </tr>\n",
       "  </tbody>\n",
       "</table>\n",
       "</div>"
      ],
      "text/plain": [
       "   target\n",
       "0       1\n",
       "1       1\n",
       "2       1\n",
       "3       0\n",
       "4       0"
      ]
     },
     "execution_count": 8,
     "metadata": {},
     "output_type": "execute_result"
    }
   ],
   "source": [
    "y.head()"
   ]
  },
  {
   "cell_type": "code",
   "execution_count": 9,
   "metadata": {},
   "outputs": [],
   "source": [
    "def intialization(n_features):\n",
    "    w = np.zeros((1,n_features))\n",
    "    b = 0\n",
    "    return w, b"
   ]
  },
  {
   "cell_type": "code",
   "execution_count": 10,
   "metadata": {},
   "outputs": [],
   "source": [
    "def sigmoid(x):\n",
    "    return 1 / (1+np.exp(-x))"
   ]
  },
  {
   "cell_type": "code",
   "execution_count": 11,
   "metadata": {},
   "outputs": [],
   "source": [
    "def trainModel(w, b, X, Y, learning_rate=0.0001, no_iterations=5000):\n",
    "    costs = []\n",
    "    m = X.shape[0]\n",
    "    #print(X.T)\n",
    "    for i in range(no_iterations):\n",
    "        # map the result to probability by sigmoid function\n",
    "        a = sigmoid(np.dot(w,X.T))\n",
    "        \n",
    "        # compute the neg log-likelihood\n",
    "        cost = (-1/m)*(np.sum((Y.T*np.log(a)) + ((1-Y.T)*(np.log(1-a)))))\n",
    "        \n",
    "        # calculate the gradient\n",
    "        dw = (1/m)*(np.dot(X.T, (a-Y.T).T))\n",
    "        db = (1/m)*(np.sum(a-Y.T))\n",
    "        \n",
    "        # update w, b\n",
    "        w = w - learning_rate*dw.T\n",
    "        b = b - learning_rate*db\n",
    "        \n",
    "        if i%100==0:\n",
    "            costs.append(cost)\n",
    "        if i%1000==0:\n",
    "            print(i, cost)\n",
    "    \n",
    "    # final result\n",
    "    coef = {\"w\": w, \"b\": b}\n",
    "    return coef, costs"
   ]
  },
  {
   "cell_type": "code",
   "execution_count": 12,
   "metadata": {
    "scrolled": false
   },
   "outputs": [
    {
     "name": "stdout",
     "output_type": "stream",
     "text": [
      "2\n",
      "[[0. 0.]] 0\n",
      "0 0    0.115525\n",
      "1    0.115525\n",
      "2    0.115525\n",
      "3    0.115525\n",
      "4    0.115525\n",
      "5    0.115525\n",
      "dtype: float64\n",
      "1000 0    0.105311\n",
      "1    0.107414\n",
      "2    0.107022\n",
      "3    0.107455\n",
      "4    0.111349\n",
      "5    0.115329\n",
      "dtype: float64\n",
      "2000 0    0.096244\n",
      "1    0.100105\n",
      "2    0.099345\n",
      "3    0.100209\n",
      "4    0.107470\n",
      "5    0.115132\n",
      "dtype: float64\n",
      "3000 0    0.088192\n",
      "1    0.093514\n",
      "2    0.092410\n",
      "3    0.093698\n",
      "4    0.103864\n",
      "5    0.114933\n",
      "dtype: float64\n",
      "4000 0    0.081036\n",
      "1    0.087562\n",
      "2    0.086137\n",
      "3    0.087838\n",
      "4    0.100506\n",
      "5    0.114734\n",
      "dtype: float64\n",
      "Optimized weights: [[-0.24031748 -0.14998835]]\n",
      "Optimized intercept (b): 0    0.035548\n",
      "1    0.036813\n",
      "2    0.036550\n",
      "3   -0.036859\n",
      "4   -0.039170\n",
      "5   -0.041543\n",
      "dtype: float64\n",
      "y_hat\n",
      "[[1 1 1 0 0 0]]\n"
     ]
    }
   ],
   "source": [
    "n_features = X.shape[1]\n",
    "print(n_features)\n",
    "w, b = intialization(n_features)\n",
    "print(w, b)\n",
    "coef, costs = trainModel(w, b, X, y)\n",
    "\n",
    "w = coef['w']\n",
    "b = coef['b']\n",
    "\n",
    "y_hat = np.array(sigmoid(np.dot(w,X.T))>0.5).astype(int)\n",
    "\n",
    "print('Optimized weights:', w)\n",
    "print('Optimized intercept (b):',b)\n",
    "#print('Training Accuracy',accuracy_score(y_hat.T, y))\n",
    "print(\"y_hat\")\n",
    "print(y_hat)\n"
   ]
  },
  {
   "cell_type": "code",
   "execution_count": null,
   "metadata": {},
   "outputs": [],
   "source": []
  }
 ],
 "metadata": {
  "kernelspec": {
   "display_name": "Python(env_project_rna)",
   "language": "python",
   "name": "env_project_rna"
  },
  "language_info": {
   "codemirror_mode": {
    "name": "ipython",
    "version": 3
   },
   "file_extension": ".py",
   "mimetype": "text/x-python",
   "name": "python",
   "nbconvert_exporter": "python",
   "pygments_lexer": "ipython3",
   "version": "3.8.2"
  }
 },
 "nbformat": 4,
 "nbformat_minor": 4
}
